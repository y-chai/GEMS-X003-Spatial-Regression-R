{
 "cells": [
  {
   "cell_type": "markdown",
   "id": "5afde9ec-93ca-411f-81e6-085a960d516d",
   "metadata": {},
   "source": [
    "<img src=\"images/GEMS Informatics Learning.png\" width=600 alt=\"GEMS Logo\" title=\"GEMS\" />"
   ]
  },
  {
   "cell_type": "markdown",
   "id": "80f7c118-aed9-4860-ae14-f6251f982156",
   "metadata": {
    "tags": []
   },
   "source": [
    "# **Spatial Regression**\n",
    "\n",
    "**Instructors:**  \n",
    "Yuan Chai (chaix026@umn.edu)  \n",
    "Ali Joglekar (joglekar@umn.edu)  \n",
    "\n",
    "---\n",
    "\n",
    "## Method of Delivery\n",
    "- Workshop text, images and R code are all contained within a Jupyter Notebook hosted on the GEMS Informatics Platform. You do not need to have R or RStudio installed on your machine to participate\n",
    "- A recording of the workshop will be posted on Canvas\n",
    "- Please download any desired materials, as we cannot guarantee access to the Canvas course beyond 3 months.  \n",
    "\n",
    "---  \n",
    "\n",
    "## Module Outline: \n",
    "- [Spatial Dependence](#SpDep)  \n",
    "  - [Exercise 1](#Ex1)\n",
    "- [Spatial Weight Objects](#SpWt) \n",
    "  - [Exercise 2](#Ex2)\n",
    "- [Spatial Autocorrelation](#SpAuto)  \n",
    "  - [Exercise 3](#Ex3)\n",
    "- [Spatial Regression](#SpReg)\n",
    "  - [Exercise 4](#Ex4)\n",
    "\n",
    "---  \n"
   ]
  },
  {
   "cell_type": "markdown",
   "id": "4e55eb90-e698-4f23-8ec7-a113d4e6f941",
   "metadata": {},
   "source": [
    "### **Load R Libraries**"
   ]
  },
  {
   "cell_type": "code",
   "execution_count": null,
   "id": "09a61e31-69a1-4631-a05e-8b7dd92d1e43",
   "metadata": {
    "tags": []
   },
   "outputs": [],
   "source": [
    "# Install and load packages needed for this workshop\n",
    "\n",
    "packages_to_load <- c(\"raster\", \"sf\", \"spdep\", \"spatialreg\", \"tmap\")\n",
    "\n",
    "for ( package in packages_to_load ) {\n",
    "    # Check if package is already installed, if not, install and load the package\n",
    "    if (!require(package, character.only=T, quietly=T, warn.conflicts=F)) {\n",
    "        install.packages(package)\n",
    "        suppressPackageStartupMessages(library(package, character.only=T, quietly=T, warn.conflicts=F))\n",
    "    }\n",
    "}\n",
    "\n",
    "# Set plot options\n",
    "options(repr.plot.width = 8, repr.plot.height = 8)\n"
   ]
  },
  {
   "cell_type": "markdown",
   "id": "7027df3e-2d86-4aad-83ee-f75dd19769d0",
   "metadata": {},
   "source": [
    "<details>\n",
    "    \n",
    "<summary><span style='color:Green'> Note: For your own work, once packages are installed, it is recommended to just use library() to load your packages  </span></summary>\n",
    "\n",
    "\n",
    "```\n",
    "# Spatial data libraries\n",
    "library(raster)\n",
    "library(sf)\n",
    "library(spdep)\n",
    "\n",
    "# Spatial regression libraries\n",
    "library(spatialreg)\n",
    "\n",
    "# Plotting libraries\n",
    "library(tmap)\n",
    "\n",
    "```\n",
    "----\n",
    "          \n",
    "</details>\n"
   ]
  },
  {
   "cell_type": "markdown",
   "id": "9a487225-8a34-4d45-94a0-ad5e4befda2e",
   "metadata": {},
   "source": [
    "### Data\n",
    "\n",
    "For this workshop, a pseudo dataset representing hypothetical pest stress for selected Minnesota counties are created and saved in the directory `./data/shp/mnp`.  \n",
    "For the hands-on exercises, you will be using a dataset downloaded from the Malawi Living Standard Measurement Survey Integrated Household Sample (LSMS-IHS) Data Wave 5 Data (available from https://microdata.worldbank.org/index.php/catalog/3818 ). The data has been downloaded, cleaned, transformed, and saved in the directory `./data/shp/MWI`. \n",
    "\n",
    "### Attribution\n",
    "\n",
    "The following material draws heavily from [Spatial Data Science](https://rspatial.org/raster/analysis/3-spauto.html) and some other online souces ([link 1](http://www.econ.uiuc.edu/~lab/workshop/Spatial_in_R.html), [link 2](https://www.r-bloggers.com/2019/09/spatial-regression-in-r-part-1-spamm-vs-glmmtmb/), [link 3](https://rpubs.com/quarcs-lab/tutorial-spatial-regression))."
   ]
  },
  {
   "cell_type": "markdown",
   "id": "ad508634-8e09-4c2c-84c7-e8a3dec5d1f6",
   "metadata": {},
   "source": [
    "<a id=\"SpDep\"></a>\n",
    "## **Spatial Dependence**\n",
    "\n",
    "When dealing with space, one must bear in mind Tobler’s first law of geography  \n",
    "\n",
    "  > **“Everything is related to everything else, but close things are more related than things that are far apart”**  \n",
    "  > --Tobler (1979)  \n",
    "\n",
    "\n",
    "**Example**\n",
    "\n",
    "Pest pressure for Minnesota, notice how the pest pressure are not randomly distributed across the study area  \n",
    "\n",
    "<img src=\"images/mnp.png\" width=300 alt=\"tree\" title=\"Tree Height\" />\n",
    "\n",
    "\n",
    "\n",
    "**Basic Steps** for answering spatial regression problems:  \n",
    "\n",
    "1. Decide how points/polygons are linked in space (and time)\n",
    "2. Specify a spatial weights matrix\n",
    "3. Run OLS\n",
    "4. Check for spatial autocorrelation (residual)\n",
    "5. Run spatial regression\n",
    "\n",
    "\n",
    "    \n",
    "In this workshop we’ll introduce you to these basic steps, including specification of spatial dependence, specification tests to detect spatial dependence in regressions models and basic regression models that incorporate spatial dependence.\n",
    "\n"
   ]
  },
  {
   "cell_type": "markdown",
   "id": "eafd2883-d09d-4348-8b8e-dc5585b04b0d",
   "metadata": {
    "tags": []
   },
   "source": [
    "## **Measuring spatial association and correlation**\n",
    "\n",
    "An important step in spatial statistics and modelling is to get a measure of the spatial influence between geographic objects.  \n",
    "This can be expressed as a function of _adjacency_, _closeness_ or _(inverse) distance_, and is often expressed as a spatial weights matrix.  \n",
    "\n",
    "\n",
    "### **Neighbor Criterion**  \n",
    "The specification of the neighboring set is quite arbitrary and there’s a wide range of suggestions in the literature. \n",
    "\n",
    "In `spdep` package, neighbor relationships between _n_ observations are represented by an `nb` object class  \n",
    "\n",
    "#### **Contiguity-based neighbors:**  \n",
    "Neighboring polygons \"touch\" a focal polygon\n",
    "\n",
    "<img src=\"images/neighbor criterion.png\" width=600 alt=\"nb\" title=\"Neighbor Criterion\" />\n",
    "\n",
    "\n",
    "1. **Rook criterion**: neighboring polygons must share a line segment with focal polygon  \n",
    "2. **Queen criterion**: neighboring polygons must share a vertex with focal polygon  \n",
    "\n",
    "#### **Distance-based neighbors:**  \n",
    "Neighboring polygons within a given proximity threshold to a focal polygon  \n",
    "\n",
    "1. **K-nearest neighbors** retains K nearest neighbors for each focal polygon \n",
    "2. **Neighborhood contiguity by distance** retains the neighbors for each focal polygon within a fixed distance band  \n",
    "\n",
    "**Note:** Distances are measured between polygon centroids.  \n",
    "If your data are in geographic coordinate system, you can supply the argument `longlat = TRUE` to use great circle distances \n",
    "\n",
    "**Example:**  Pest pressure (hypothetical dataset) for selected Minnesota counties"
   ]
  },
  {
   "cell_type": "code",
   "execution_count": null,
   "id": "9b61c09d-6f95-4b11-acc0-2d5f15ddbad9",
   "metadata": {},
   "outputs": [],
   "source": [
    "# read in our example shape file: pest pressure for selected MN counties\n",
    "mnp <- st_read(\"./data/shp/mnp\")\n",
    "mnp <- st_as_sf(mnp)\n",
    "str(mnp)"
   ]
  },
  {
   "cell_type": "code",
   "execution_count": null,
   "id": "423b3172-dbdf-475f-af03-3a4478f6b229",
   "metadata": {},
   "outputs": [],
   "source": [
    "# plot the PEST variable \n",
    "options(repr.plot.width = 8, repr.plot.height = 8)\n",
    "\n",
    "tm_shape(mnp) +\n",
    "tm_polygons(col=\"PEST\", border.col=\"grey50\", lwd=.4)"
   ]
  },
  {
   "cell_type": "code",
   "execution_count": null,
   "id": "7c9d728a-4dcc-41dd-b835-d4d4be2614b4",
   "metadata": {},
   "outputs": [],
   "source": [
    "# calculate neighboring using Queen's case (default) \n",
    "mnp_nbq <- poly2nb(mnp, queen=TRUE)\n",
    "mnp_nbq"
   ]
  },
  {
   "cell_type": "code",
   "execution_count": null,
   "id": "afa332cb-017b-4bca-ace9-d9d12c5d3541",
   "metadata": {},
   "outputs": [],
   "source": [
    "# structure of a spatial neighbor object\n",
    "str(mnp_nbq)"
   ]
  },
  {
   "cell_type": "code",
   "execution_count": null,
   "id": "acf6f8c3-ab7c-4d13-8d4f-b5a258f812c2",
   "metadata": {},
   "outputs": [],
   "source": [
    "# quick plot\n",
    "plot(mnp$geometry, border = \"grey60\")\n",
    "plot(mnp_nbq, st_coordinates(st_centroid(st_geometry(mnp))), add=T)"
   ]
  },
  {
   "cell_type": "code",
   "execution_count": null,
   "id": "17f2eb1c-c1c4-407c-b358-d727b91b7759",
   "metadata": {},
   "outputs": [],
   "source": [
    "# calculate neighboring using Rook's case\n",
    "mnp_nbr <- poly2nb(mnp, queen=FALSE)\n",
    "mnp_nbr"
   ]
  },
  {
   "cell_type": "code",
   "execution_count": null,
   "id": "750ecd8c-c7e8-490a-859b-23f6fab11046",
   "metadata": {},
   "outputs": [],
   "source": [
    "# K-nearest neighbors\n",
    "mnp_nbk <- knn2nb(knearneigh(st_centroid(st_geometry(mnp)), k=3))\n",
    "mnp_nbk"
   ]
  },
  {
   "cell_type": "code",
   "execution_count": null,
   "id": "1d9a8006-ef15-4950-a632-e066fd161055",
   "metadata": {},
   "outputs": [],
   "source": [
    "# Neighborhood continuity by distance\n",
    "mnp_nbd <- dnearneigh(st_centroid(st_geometry(mnp)), d1 = 0, d2 = 100000) # neighbors within 100 km\n",
    "mnp_nbd"
   ]
  },
  {
   "cell_type": "code",
   "execution_count": null,
   "id": "2de23434-5150-415a-9bf3-85920bedc9ef",
   "metadata": {},
   "outputs": [],
   "source": [
    "# Plot\n",
    "options(repr.plot.width = 8, repr.plot.height = 8)\n",
    "\n",
    "par(mfrow = c(2, 2))\n",
    "par(mai=c(0,0,2,0))\n",
    "\n",
    "plt_coord <- st_coordinates(st_centroid(st_geometry(mnp)))\n",
    "\n",
    "plot(mnp$geometry, border = \"grey60\", main = \"Queen's Case Contiguity\")\n",
    "plot(mnp_nbq, plt_coord, pch = 19, cex = 0.6, col=\"red\", add = TRUE)\n",
    "\n",
    "plot(mnp$geometry, border = \"grey60\", main = \"Rook's Contiguity\")\n",
    "plot(mnp_nbr, plt_coord, pch = 19, cex = 0.6, col=\"red\", add = TRUE)\n",
    "\n",
    "plot(mnp$geometry, border = \"grey60\", main = \"K-nearest Neighbors\")\n",
    "plot(mnp_nbk, plt_coord, pch = 19, cex = 0.6, col=\"red\", add = TRUE)\n",
    "\n",
    "plot(mnp$geometry, border = \"grey60\", main = \"Distance\")\n",
    "plot(mnp_nbd, plt_coord, pch = 19, cex = 0.6, col=\"red\", add = TRUE)\n"
   ]
  },
  {
   "cell_type": "markdown",
   "id": "dc79b1ae-ab20-47ab-a276-c4b0089f52d2",
   "metadata": {
    "tags": []
   },
   "source": [
    "<a id=\"Ex1\"></a>\n",
    "### **<span style='color:Green'> Exercise 1: Calculating neighbor objects </span>**   "
   ]
  },
  {
   "cell_type": "markdown",
   "id": "405855b6-60ac-46db-b8cd-b8258c7f3e47",
   "metadata": {},
   "source": [
    "In this exercise, we will first read in a shape file which contains the Malawi LSMS data and then create various neighbor objects.  \n"
   ]
  },
  {
   "cell_type": "markdown",
   "id": "bed19374-fb62-4db4-992a-0e39cd9867e1",
   "metadata": {},
   "source": [
    "**Step 1:** Use the `st_read()` function to read in shape file from the `'./data/shp/MWI/` directory."
   ]
  },
  {
   "cell_type": "code",
   "execution_count": null,
   "id": "5e0ab1fa-2cb1-42d4-85fa-bcdf3058d14e",
   "metadata": {},
   "outputs": [],
   "source": []
  },
  {
   "cell_type": "markdown",
   "id": "a3355dbd-cc5a-48a1-b946-fa036a1b59f1",
   "metadata": {},
   "source": [
    "<details>\n",
    "    \n",
    "<summary><span style='color:Green'> Click to see answer  </span></summary>\n",
    "\n",
    "```\n",
    "# Read MWI shape file\n",
    "mwi_sf <- st_read(\"./data/shp/MWI\") #shapefiles called only using data source name (dsn)\n",
    "mwi_sf\n",
    "```\n",
    "----\n",
    "          \n",
    "</details>"
   ]
  },
  {
   "cell_type": "markdown",
   "id": "3d8dfb2d-ee11-4b6b-8e92-c66be64e7813",
   "metadata": {},
   "source": [
    "**Step 2:** Calculate a neighbor object for Malawi using the queen's case, rook's case, k-nearest neighbor & distance.\n",
    "\n",
    "> Note, your Malawi object has a long/lat projection, so you want to look up the long/lat argument in distance-based metrics."
   ]
  },
  {
   "cell_type": "code",
   "execution_count": null,
   "id": "12d1433a-7429-4e02-b153-5643750c13b2",
   "metadata": {},
   "outputs": [],
   "source": []
  },
  {
   "cell_type": "markdown",
   "id": "df4d1b44-4060-426d-b6b4-5bf5afe2d504",
   "metadata": {},
   "source": [
    "<details>\n",
    "    \n",
    "<summary><span style='color:Green'> Click to see answer  </span></summary>\n",
    "\n",
    "```\n",
    "#neighbor objects\n",
    "#-------------\n",
    "mwi_nbq <- poly2nb(mwi_sf) #queen's case by default\n",
    "mwi_nbr <- poly2nb(mwi_sf, queen = FALSE) #rook's case\n",
    "mwi_nbk <- knn2nb(knearneigh(st_centroid(st_geometry(mwi_sf)), k = 3)) #3 nearest neighbors\n",
    "mwi_nbd <- dnearneigh(st_centroid(st_geometry(mwi_sf)), d1 = 0, d2 = 1, longlat = TRUE) #neighbors within 1 degree\n",
    "```\n",
    "----\n",
    "          \n",
    "</details>"
   ]
  },
  {
   "cell_type": "markdown",
   "id": "d2f2a316-206b-4c11-9fdf-d5dd6bf748df",
   "metadata": {},
   "source": [
    "**Step 3:** Print your neighbor objects or use the `summary()` function to explore these objects. What differences do you see?"
   ]
  },
  {
   "cell_type": "code",
   "execution_count": null,
   "id": "2b36a496-2523-4d57-a1af-92318b33a514",
   "metadata": {},
   "outputs": [],
   "source": []
  },
  {
   "cell_type": "markdown",
   "id": "33fada07-92d2-4399-836f-33f58e9781b2",
   "metadata": {},
   "source": [
    "<details>\n",
    "    \n",
    "<summary><span style='color:Green'> Click to see answer  </span></summary>\n",
    "\n",
    "```\n",
    "summary(mwi_nbq)\n",
    "summary(mwi_nbr)\n",
    "summary(mwi_nbk)\n",
    "summary(mwi_nbd)\n",
    "```\n",
    "----\n",
    "          \n",
    "</details>"
   ]
  },
  {
   "cell_type": "markdown",
   "id": "fe3fc684-1b69-46fe-a67e-1de06fdd0549",
   "metadata": {},
   "source": [
    "**Step 4:** Plot your neighbor objects to explore these objects. What differences do you see?"
   ]
  },
  {
   "cell_type": "code",
   "execution_count": null,
   "id": "01e315ee-ab06-482f-b416-849be91aaa0f",
   "metadata": {},
   "outputs": [],
   "source": []
  },
  {
   "cell_type": "markdown",
   "id": "ff8667a4-90d1-47e7-9c7c-aa07cf448605",
   "metadata": {},
   "source": [
    "<details>\n",
    "    \n",
    "<summary><span style='color:Green'> Click to see answer  </span></summary>\n",
    "\n",
    "```\n",
    "par(mfrow = c(1, 4))\n",
    "par(mar=c(0,0,2,0))\n",
    "\n",
    "mwi_coord <- st_coordinates(st_centroid(st_geometry(mwi_sf)))\n",
    "\n",
    "plot(mwi_sf$geometry, border = \"grey60\", main = \"Queen's Case Contiguity\")\n",
    "plot(mwi_nbq, mwi_coord, pch = 19, cex = 0.6, add = TRUE)\n",
    "\n",
    "plot(mwi_sf$geometry, border = \"grey60\", main = \"Rook's Contiguity\")\n",
    "plot(mwi_nbr, mwi_coord, pch = 19, cex = 0.6, add = TRUE)\n",
    "\n",
    "plot(mwi_sf$geometry, border = \"grey60\", main = \"K-nearest Neighbors\")\n",
    "plot(mwi_nbk, mwi_coord, pch = 19, cex = 0.6, add = TRUE)\n",
    "\n",
    "plot(mwi_sf$geometry, border = \"grey60\", main = \"Distance\")\n",
    "plot(mwi_nbd, mwi_coord, pch = 19, cex = 0.6, add = TRUE)\n",
    "\n",
    "```\n",
    "----\n",
    "          \n",
    "</details>"
   ]
  },
  {
   "cell_type": "markdown",
   "id": "2c784602-2f8c-4797-ab21-d5ab3eff2042",
   "metadata": {
    "tags": []
   },
   "source": [
    "<a id=\"SpWt\"></a>\n",
    "\n",
    "## **Spatial Weight Objects**  \n",
    "Spatial weights are a list of weights indexed by a list of neighbors.  \n",
    "\n",
    "- Useful to have a formalized way of evaluating spatial relationships\n",
    "- For a set of *n* units, each observation *i* can be potentially related to all the (*n* - 1) possible units\n",
    "- In practice we can usually assume that some interactions are more important than others\n",
    "- Often use a matrix to represent the connectivities between observations\n",
    "\n",
    "If we know little about the assumed spatial process, we try to avoid moving far from the binary\n",
    "representation of a weight of unity for neighbors, and zero otherwise.  \n",
    "\n",
    "In `spdep` package, the `nb2listw` function takes a neighbors list (`nb`) object and converts it into a\n",
    "weights (`listw`) object.\n",
    "\n",
    "- For `style=\"W\"` (default), weights vary between 1 divided by the largest and\n",
    "smallest numbers of neighbors, and the sum of weights for each areal entity\n",
    "equal 1 (**row standardization**).\n",
    "\n",
    "- For `style=\"B\"` – ‘binary’ – weights retain unity for each neighbor\n",
    "relationship, and the sum of weights for areas differ according\n",
    "to the numbers of neighbor areas have.\n",
    "\n",
    "Conventionally we always have a 0 in the main diagonal in that each area is not considered a neighbor to itself\n"
   ]
  },
  {
   "cell_type": "markdown",
   "id": "0d341eaf-d4aa-49b8-acf2-3a20d66ea796",
   "metadata": {},
   "source": [
    "**Example:**  Creating Spatial Weight Objects"
   ]
  },
  {
   "cell_type": "code",
   "execution_count": null,
   "id": "0b24003d-ba78-492f-8cc5-54a141554478",
   "metadata": {},
   "outputs": [],
   "source": [
    "# Spatial Weight Objects -- Row Standardized\n",
    "mnp_lw_w <- nb2listw(mnp_nbq)\n",
    "summary(mnp_lw_w)"
   ]
  },
  {
   "cell_type": "code",
   "execution_count": null,
   "id": "d3fb7e3b-7d94-482e-8595-87a45d4df800",
   "metadata": {},
   "outputs": [],
   "source": [
    "# structure of the Spatial Weight Objects\n",
    "str(mnp_lw_w)"
   ]
  },
  {
   "cell_type": "code",
   "execution_count": null,
   "id": "3550e58d-13b5-4f15-84f3-ea4ccad9a553",
   "metadata": {},
   "outputs": [],
   "source": [
    "# Summary of the weights\n",
    "summary(unlist(mnp_lw_w$weights))"
   ]
  },
  {
   "cell_type": "code",
   "execution_count": null,
   "id": "8fb4a68f-7945-4a6f-b763-a5ac12fe39fe",
   "metadata": {},
   "outputs": [],
   "source": [
    "# Sum of the weights \n",
    "sapply(mnp_lw_w$weights, sum)"
   ]
  },
  {
   "cell_type": "code",
   "execution_count": null,
   "id": "48f90281-806b-4215-9833-4e87246bfc26",
   "metadata": {},
   "outputs": [],
   "source": [
    "# A matrix view of the weight assigned\n",
    "round(listw2mat(mnp_lw_w), 2)"
   ]
  },
  {
   "cell_type": "code",
   "execution_count": null,
   "id": "12fee5fb-4d63-4cc0-a822-0e5bfa201422",
   "metadata": {},
   "outputs": [],
   "source": [
    "# Spatial Weight Objects -- Binary\n",
    "mnp_lw_b <- nb2listw(mnp_nbq, style=\"B\")\n",
    "summary(mnp_lw_b)"
   ]
  },
  {
   "cell_type": "code",
   "execution_count": null,
   "id": "7c790d52-0dc0-4bc1-8e32-bdb8f2f2239b",
   "metadata": {},
   "outputs": [],
   "source": [
    "# Structure of the spatial weight objects\n",
    "str(mnp_lw_b)"
   ]
  },
  {
   "cell_type": "code",
   "execution_count": null,
   "id": "acaec474-5a18-4c36-a62a-b57d08d5f864",
   "metadata": {},
   "outputs": [],
   "source": [
    "# Summary of the weights\n",
    "summary(unlist(mnp_lw_b$weights))"
   ]
  },
  {
   "cell_type": "code",
   "execution_count": null,
   "id": "80b30e91-1f22-40a4-bc34-450f707abe8a",
   "metadata": {},
   "outputs": [],
   "source": [
    "# Sum of weights by list\n",
    "sapply(mnp_lw_b$weights, sum)"
   ]
  },
  {
   "cell_type": "code",
   "execution_count": null,
   "id": "8b9898b1-4975-4450-af47-778b25240cc8",
   "metadata": {},
   "outputs": [],
   "source": [
    "# Matrix view of the weights\n",
    "listw2mat(mnp_lw_b)"
   ]
  },
  {
   "cell_type": "markdown",
   "id": "9cdbc8d3-1f3e-4412-8031-e0bd8cfa42f2",
   "metadata": {
    "tags": []
   },
   "source": [
    "<a id=\"Ex2\"></a>\n",
    "### **<span style='color:Green'> Exercise 2: Spatial Weights Objects </span>**   "
   ]
  },
  {
   "cell_type": "markdown",
   "id": "5db77c76-ed0d-47e4-b4c3-921db54521ad",
   "metadata": {},
   "source": [
    "In this exercise, we build off results from Exercise 1 with our Malawi LSMS data and the spatial neighbor objects we created.  \n"
   ]
  },
  {
   "cell_type": "markdown",
   "id": "0eb3c425-c99d-4ca3-9985-70cb83c1c157",
   "metadata": {},
   "source": [
    "**Step 1:** Use the `nb2listw` function create a spatial weight object with **row-standardized** weights"
   ]
  },
  {
   "cell_type": "code",
   "execution_count": null,
   "id": "d8ba6534-a3df-4d0f-8e1d-11d71b1ef008",
   "metadata": {},
   "outputs": [],
   "source": []
  },
  {
   "cell_type": "markdown",
   "id": "ce140e6f-57a0-49d2-808e-e6a1dcd14919",
   "metadata": {},
   "source": [
    "<details>\n",
    "    \n",
    "<summary><span style='color:Green'> Click to see answer  </span></summary>\n",
    "\n",
    "```\n",
    "mwi_lw_w <- nb2listw(mwi_nbq)\n",
    "summary(mwi_lw_w)\n",
    "```\n",
    "----\n",
    "          \n",
    "</details>"
   ]
  },
  {
   "cell_type": "markdown",
   "id": "3f84b663-098f-476d-b0ea-4224b6f21208",
   "metadata": {},
   "source": [
    "**Step 2:** Use the `nb2listw` function create a spatial weight object with **binary** weights"
   ]
  },
  {
   "cell_type": "code",
   "execution_count": null,
   "id": "70e9aa70-58c0-49e5-9aa4-e2d58d79b4e9",
   "metadata": {},
   "outputs": [],
   "source": []
  },
  {
   "cell_type": "markdown",
   "id": "a6435a7b-e71e-4eb7-9e14-2ddedda4c8a5",
   "metadata": {},
   "source": [
    "<details>\n",
    "    \n",
    "<summary><span style='color:Green'> Click to see answer  </span></summary>\n",
    "\n",
    "```\n",
    "mwi_lw_b <- nb2listw(mwi_nbq, style=\"B\")\n",
    "summary(mwi_lw_b)\n",
    "```\n",
    "----\n",
    "          \n",
    "</details>"
   ]
  },
  {
   "cell_type": "markdown",
   "id": "caa42f8a-4676-4d7c-acc5-2ad05992cb01",
   "metadata": {},
   "source": [
    "**Step 3:** Compare the weight matrix between the **row-standardized** and **binary** type"
   ]
  },
  {
   "cell_type": "code",
   "execution_count": null,
   "id": "cfcedf43-029b-4e36-8333-b2324ab7da74",
   "metadata": {},
   "outputs": [],
   "source": []
  },
  {
   "cell_type": "markdown",
   "id": "9f55223b-fb41-4fd7-80e5-828323fb2d9c",
   "metadata": {},
   "source": [
    "<details>\n",
    "    \n",
    "<summary><span style='color:Green'> Click to see answer  </span></summary>\n",
    "\n",
    "```\n",
    "# Matrix view of the weights\n",
    "listw2mat(mwi_lw_w)\n",
    "listw2mat(mwi_lw_b)\n",
    "```\n",
    "----\n",
    "          \n",
    "</details>"
   ]
  },
  {
   "cell_type": "markdown",
   "id": "105503ef-193f-4de3-91b4-41b33b0eaabf",
   "metadata": {
    "tags": []
   },
   "source": [
    "<a id=\"SpAuto\"></a>\n",
    "\n",
    "## **Spatial autocorrelation**  \n",
    "- **Positve spatial autocorrelation:** similar values are close to each other\n",
    "- **Negative spatial autocorrelation:** similar values are distant from each other\n",
    "- **Random spatial autocorrelation:** similar values are neither close nor distant from each other  \n",
    "\n",
    "<img src=\"images/spatial autocorrelation.png\" width=800 alt=\"spauto\" title=\"Spatial Autocorrelation\" />\n",
    "\n",
    "#### Global Indicators of Spatial Association  \n",
    "\n",
    "**Moran’s I** (`moran.test()`) is perhaps the most common global test. For other test, see also [Geary’s C](https://en.wikipedia.org/wiki/Geary%27s_C) [(`geary.test()`)](https://r-spatial.github.io/spdep/reference/geary.test.html)  \n",
    "\n",
    "\n",
    "- Measures the linear association between a value and a weighted average of its neighbors\n",
    "- If there is no spatial clustering in *y*, then the spatial lag of *y* should not vary systematically with *y*\n",
    "\n",
    " \n",
    "**General approach for Moran's I**: \n",
    "\n",
    "$$\n",
    "I = \\frac{n}{\\sum_{i=1}^n\\sum_{j=1}^n w_{ij}} \\frac{\\sum_{i=1}^n\\sum_{j=1}^n w_{ij} (y_i - \\bar y)(y_j - \\bar y)}{\\sum_{i=1}^n (y_i - \\bar y)^2}\n",
    "$$  \n",
    "where $y_i$ is the $i$th observation, $\\bar y$ is the mean of the variable of interest, and\n",
    "$w_{ij}$ is the spatial weight of the link between $i$ and $j$.\n",
    "\n",
    "- Result is a standard deviate \n",
    "- Compare with normal distribution to find probability value\n",
    "of observed statistic under the null hypothesis of no spatial dependence\n",
    "- Most often the test is one-sided, with an alternative\n",
    "hypothesis of observed statistic being significantly greater than\n",
    "its expected value\n",
    "- Outcomes depend on the choices made  \n",
    "\n",
    "<img src=\"images/Global-Morans-I-analysis.png\" width=600 alt=\"moran\" title=\"Moran's I\" />\n",
    "\n",
    "\n",
    "**Moran's I Statistics** "
   ]
  },
  {
   "cell_type": "code",
   "execution_count": null,
   "id": "12f83b71-aeff-4a91-b9f3-cb94b0220942",
   "metadata": {},
   "outputs": [],
   "source": [
    "moran.test(mnp$PEST, listw = mnp_lw_w)"
   ]
  },
  {
   "cell_type": "markdown",
   "id": "ecb45ac7-bf95-40b4-a79f-c3c6ea1e62e7",
   "metadata": {},
   "source": [
    "**Moran's I Plot**  \n",
    "Global tests for spatial autocorrelation calculated from local relationships\n",
    "between values observed at a spatial entity and its neighbors, for chosen weights"
   ]
  },
  {
   "cell_type": "code",
   "execution_count": null,
   "id": "a598c5a5-dfd9-4787-b691-9cac36808390",
   "metadata": {},
   "outputs": [],
   "source": [
    "moran.plot(mnp$PEST, listw = mnp_lw_w)"
   ]
  },
  {
   "cell_type": "markdown",
   "id": "c8914450-0992-46c2-a75a-41f3c286e6e3",
   "metadata": {},
   "source": [
    "- Slope coefficient equal to global Moran's I\n",
    "- Plot is centered on the means\n",
    "\n",
    "> Moran's test and plot automatically calculates the lagged variable for you, but it's possible to calculate lagged variable manually by multiplying the spatial weight matrix with the variable of interest"
   ]
  },
  {
   "cell_type": "code",
   "execution_count": null,
   "id": "d9df53ea-3f79-4377-b912-b4ce47be9b1a",
   "metadata": {},
   "outputs": [],
   "source": [
    "# manually create a spatila lag for PEST variable\n",
    "mnp$L.PEST <- lag.listw(mnp_lw_w, mnp$PEST)\n",
    "plot(mnp$PEST, mnp$L.PEST)"
   ]
  },
  {
   "cell_type": "markdown",
   "id": "65d753e6-e25b-4064-9809-b55b369d0652",
   "metadata": {
    "tags": []
   },
   "source": [
    "<a id=\"Ex3\"></a>\n",
    "### **<span style='color:Green'> Exercise 3: Calculating Moran's I </span>**   "
   ]
  },
  {
   "cell_type": "markdown",
   "id": "7bf5acbc-74ff-40f7-bd88-b6fb05495a88",
   "metadata": {},
   "source": [
    "In this exercise, we will utilize the basic ideas we explored related to spatial autocorrelation to test spatial autocorrelation across multiple variables\n"
   ]
  },
  {
   "cell_type": "markdown",
   "id": "eb5426a2-07d5-4a3a-8d5a-82766f1be499",
   "metadata": {},
   "source": [
    "**Step 1:** Use the `moran.test` function test the spatial autocorrelation for `poverty` variable"
   ]
  },
  {
   "cell_type": "code",
   "execution_count": null,
   "id": "eb6cbace-90e8-481e-946f-f02d0077a1c1",
   "metadata": {},
   "outputs": [],
   "source": []
  },
  {
   "cell_type": "markdown",
   "id": "8891c13e-5044-49fd-ae49-38beb06e5627",
   "metadata": {},
   "source": [
    "<details>\n",
    "    \n",
    "<summary><span style='color:Green'> Click to see answer  </span></summary>\n",
    "\n",
    "```\n",
    "moran.test(mwi_sf$poverty, listw=mwi_lw_w)\n",
    "```\n",
    "----\n",
    "          \n",
    "</details>"
   ]
  },
  {
   "cell_type": "markdown",
   "id": "33439182-e60a-4152-a140-926013eeb01f",
   "metadata": {},
   "source": [
    "**Step 2:** Use the `moran.plot` function plot the Moran's I plot for `poverty` variable"
   ]
  },
  {
   "cell_type": "code",
   "execution_count": null,
   "id": "99833914-c688-4b5a-9624-69e9b7d574c6",
   "metadata": {},
   "outputs": [],
   "source": []
  },
  {
   "cell_type": "markdown",
   "id": "1bfaea5d-54af-4366-bdc7-2e0770b0f435",
   "metadata": {},
   "source": [
    "<details>\n",
    "    \n",
    "<summary><span style='color:Green'> Click to see answer  </span></summary>\n",
    "\n",
    "```\n",
    "moran.plot(mwi_sf$poverty, listw=mwi_lw_w)\n",
    "```\n",
    "----\n",
    "          \n",
    "</details>"
   ]
  },
  {
   "cell_type": "markdown",
   "id": "88135cae-cf39-4255-9cc2-6a0d343118cc",
   "metadata": {},
   "source": [
    "**Step 3:** Use the `moran.test` and `moran.plot` function plot the Moran's I plot for other variables in the Malawi LSMS data (e.g., `croplnd`, `tobccHH`, etc)"
   ]
  },
  {
   "cell_type": "code",
   "execution_count": null,
   "id": "8bece3a1-2e09-40b6-b590-0b983a024838",
   "metadata": {},
   "outputs": [],
   "source": []
  },
  {
   "cell_type": "markdown",
   "id": "1c33e985-2134-4073-8ab9-dda9c9044cac",
   "metadata": {},
   "source": [
    "<details>\n",
    "    \n",
    "<summary><span style='color:Green'> Click to see answer  </span></summary>\n",
    "\n",
    "```\n",
    "# croplnd\n",
    "moran.test(mwi_sf$croplnd, listw=mwi_lw_w)\n",
    "moran.plot(mwi_sf$croplnd, listw=mwi_lw_w)\n",
    "\n",
    "# tobccHH\n",
    "moran.test(mwi_sf$tobccHH, listw=mwi_lw_w)\n",
    "moran.plot(mwi_sf$tobccHH, listw=mwi_lw_w)\n",
    "```\n",
    "----\n",
    "          \n",
    "</details>"
   ]
  },
  {
   "cell_type": "markdown",
   "id": "3511f226-22ed-4f06-b22e-621bafd8661a",
   "metadata": {
    "tags": []
   },
   "source": [
    "<a id=\"SpReg\"></a>\n",
    "\n",
    "## **Spatial Regression Model**  \n",
    "\n",
    "OLS assumes that the hypothesis of sphericity of the errors:\n",
    "\n",
    "\\begin{align}\n",
    "y &= X\\beta  +  \\varepsilon  \\qquad  \\\\\n",
    "\\end{align}\n",
    "\n",
    "1. Constant elements on the main diagonal of the variance-covariance\n",
    "matrix (homoscedasticity)\n",
    "2. Zero value of the off-diagonal elements of the variance-covariance\n",
    "matrix (absence of autocorrelation)\n",
    "\n",
    "\\begin{align}\n",
    "    E(\\epsilon \\epsilon ') &= \\begin{bmatrix}\n",
    "           \\sigma^2 & 0 & \\dots & 0\\\\\n",
    "           0 & \\sigma^2 & \\dots & 0\\\\\n",
    "           \\vdots & \\vdots & \\vdots & 0\\\\\n",
    "           0 & 0 & \\dots & \\sigma^2\n",
    "         \\end{bmatrix} \n",
    "\\end{align}\n",
    "\n",
    "#### **Spatial Regression Models**  \n",
    "Spatial observations typically have heteroskadastic errors and autocorrelation  \n",
    "A full generalized spatial regression model with all types of spatial lag effects takes the form:\n",
    "\n",
    "\\begin{equation*}\n",
    "y = \\rho W_1y + X\\beta + W_2X\\gamma + u  \\qquad |\\rho| < 1\n",
    "\\label{eq:y} \\tag{1}\n",
    "\\end{equation*}\n",
    "\n",
    "\n",
    "\\begin{equation*}\n",
    "u = \\lambda W_3u + \\varepsilon \\qquad |\\lambda| < 1\n",
    "\\label{eq:u} \\tag{2}\n",
    "\\end{equation*}\n",
    "\n",
    "with $X$ a matrix of non-stochastic regressors, $W_i$ a weight matrix\n",
    "exogenously given, $\\beta$ and $\\gamma$  are vectors of regression parameters, \n",
    "$\\varepsilon \\sim N(0,\\sigma_\\varepsilon ^2I_n)$. \n",
    "\n",
    "The scalar parameters $\\rho$ (spatial autoregressive coefficient) and $\\lambda$ \n",
    "(spatial autocorrelation coefficient) measure the strength of dependence between units  \n",
    "\n",
    "The $|\\cdot| < 1$ restrictions on $\\rho$ and $\\lambda$ hold if $W_i$ is row-standardized.\n",
    "\n",
    "Equation (1) considers endogenous spatial lags among the dependent variable, \n",
    "$W_1y$, and the exogenous spatial lags among the independent variables, $W_2X$\n",
    "\n",
    "Equation (2) considers interaction effects among the the stochastic\n",
    "disturbance term of different units, $W_3u$\n",
    "\n",
    "In theory, no need that the three weight matrices are the same, although difficult \n",
    "to justify a different choice in practice, $W_i = W$\n"
   ]
  },
  {
   "cell_type": "markdown",
   "id": "9a90a00e-a9c7-4566-a65f-ca01bc4418bf",
   "metadata": {},
   "source": [
    "### **Spatial Regression Model Specifications**\n",
    "\n",
    "\n",
    "<img src=\"images/spatial_econometric_models.png\" width=800 alt=\"spmod\" title=\"Spatial Econ Models\" />  \n",
    "\n",
    "\n",
    "1. Spatial Error Model (SEM): $\\rho = 0$; $\\gamma = 0$; $\\lambda \\neq 0$\n",
    "$$\n",
    "\\begin{array}{l}\n",
    "y = X\\beta + u \\\\\n",
    "u = \\lambda Wu + \\varepsilon\n",
    "\\end{array}\n",
    "$$  \n",
    "\n",
    "2. Spatial Lag of X Model (SLX): $\\rho = 0$ $\\gamma \\neq 0$ $\\lambda = 0$ \n",
    "$$\n",
    "y = X\\beta + WX\\gamma + \\varepsilon\n",
    "$$  \n",
    "\n",
    "3. Spatial Lag Model (SLM): $\\rho \\neq 0$; $\\gamma = 0$; $\\lambda = 0$  \n",
    "$$\n",
    "y = \\rho Wy + X\\beta + \\varepsilon\n",
    "$$  \n",
    "\n",
    "4. Spatial Durbin Error Model (SDEM): $\\rho = 0$; $\\gamma \\neq 0$; $\\lambda \\neq 0$ \n",
    "$$\n",
    "\\begin{array}{l}\n",
    "y = X\\beta + WX\\gamma + u \\\\\n",
    "u = \\lambda Wu + \\varepsilon\n",
    "\\end{array}\n",
    "$$  \n",
    "\n",
    "5. Spatial Durbin Model (SDM): $\\rho \\neq 0$; $\\gamma \\neq 0$; $\\lambda = 0$\n",
    "$$\n",
    "y = \\rho Wy + X\\beta + WX\\gamma + \\varepsilon\n",
    "$$  \n",
    "\n",
    "6. Spatial Autocorrelation Model (SAC): $\\rho \\neq 0$ ; $\\gamma = 0$; $\\lambda \\neq 0$\n",
    "$$\n",
    "\\begin{array}{l}\n",
    "y = \\rho Wy + X\\beta + u \\\\\n",
    "u = \\lambda Wu + \\varepsilon\n",
    "\\end{array}\n",
    "$$  \n",
    "\n",
    "7. General Nesting Spatial Model (GNS): $\\rho \\neq 0$; $\\gamma \\neq 0$; $\\lambda \\neq 0$  \n",
    "$$\n",
    "\\begin{array}{l}\n",
    "y = \\rho Wy + X\\beta + WX\\gamma + u \\\\\n",
    "u = \\lambda Wu + \\varepsilon\n",
    "\\end{array}\n",
    "$$  \n"
   ]
  },
  {
   "cell_type": "code",
   "execution_count": null,
   "id": "a7be72e4-4750-4a19-9765-a969e216543e",
   "metadata": {},
   "outputs": [],
   "source": [
    "# Spatial Lag Model (SLM)\n",
    "mnp_slm <- lagsarlm(PEST ~ HOST, data=mnp, listw =mnp_lw_w)\n",
    "summary(mnp_slm)"
   ]
  },
  {
   "cell_type": "code",
   "execution_count": null,
   "id": "aa2c211b-c6cd-4dd3-92bf-4bafbf334b0f",
   "metadata": {},
   "outputs": [],
   "source": [
    "# SLX\n",
    "mnp_slx <- lmSLX(PEST ~ HOST, data=mnp, listw =mnp_lw_w)\n",
    "summary(mnp_slx)"
   ]
  },
  {
   "cell_type": "code",
   "execution_count": null,
   "id": "ad10c5df-83c5-43ce-bc9a-6e3f74743509",
   "metadata": {},
   "outputs": [],
   "source": [
    "# Spatial Error Model (SEM)\n",
    "mnp_sem <- errorsarlm(PEST ~ HOST, data=mnp, listw =mnp_lw_w)\n",
    "summary(mnp_sem)"
   ]
  },
  {
   "cell_type": "code",
   "execution_count": null,
   "id": "2f2d7c60-6d24-422b-b0cb-9c069b41cf85",
   "metadata": {},
   "outputs": [],
   "source": [
    "# Spatial Autocorrelation Model (SAC)\n",
    "mnp_sac <- sacsarlm(PEST ~ HOST, data=mnp, listw =mnp_lw_w)\n",
    "summary(mnp_sac)"
   ]
  },
  {
   "cell_type": "code",
   "execution_count": null,
   "id": "1716877e-161a-44b7-b616-b5f61dab34f4",
   "metadata": {},
   "outputs": [],
   "source": [
    "# Spatial Durbin Model (SDM)\n",
    "mnp_sdm <- lagsarlm(PEST ~ HOST, data=mnp, listw=mnp_lw_w, type=\"mixed\")\n",
    "summary(mnp_sdm)"
   ]
  },
  {
   "cell_type": "code",
   "execution_count": null,
   "id": "33f4d107-de61-42d6-a9b4-6068932590c2",
   "metadata": {},
   "outputs": [],
   "source": [
    "# Spatial Durbin Error Model (SDEM)\n",
    "mnp_sdem <- errorsarlm(PEST ~ HOST, data=mnp, listw =mnp_lw_w, etype=\"emixed\")\n",
    "summary(mnp_sdem)"
   ]
  },
  {
   "cell_type": "code",
   "execution_count": null,
   "id": "97c4cfcb-922b-424f-806e-209140f8c271",
   "metadata": {},
   "outputs": [],
   "source": [
    "# General Nesting Spatial Model (GNS)\n",
    "mnp_gns <- sacsarlm(PEST ~ HOST, data=mnp, listw =mnp_lw_w, type=\"sacmixed\")\n",
    "summary(mnp_gns)"
   ]
  },
  {
   "cell_type": "markdown",
   "id": "05aeeb74-cdb9-4bf1-b298-325afc1a548b",
   "metadata": {},
   "source": [
    "\n",
    "### **Spatial Econometric Models in Practice**\n",
    "\n",
    "Different spatial econometric models are generally impossible to distinguish without assuming prior knowledge about the true data‐generating process, which is often not possessed in practice.\n",
    "\n",
    "There is a large gap in the level of interest in different types of interaction effects between theoreticians and practitioners.\n",
    "\n",
    "- Theoreticians are mainly interested in the SLM (also known as SAR) and SEM models, as well as the SAC model\n",
    "- Theoreticians generally do not focus on spatial econometric models with exogenous interaction\n",
    "effects ($WX$) is because the estimation of such models doesn't pose any econometric problems\n",
    "    - Standard estimation techniques suffice under these circumstances\n",
    "    - SDEM and SLX models are hardly considered or used in econometric-theoretic and empirical research\n",
    "\n",
    "### Testing Spatial Autocorrelation\n",
    "\n",
    "If ML strategy used for estimation, can explicitly \n",
    "express alternative hypothesis as Lagrange Multiplier of SEM or SLM \n",
    "\n",
    "**SEM Alternative Hypothesis**:\n",
    "\\begin{align}\n",
    "LM_{SEM} = \\frac{n^2}{tr(W^TW + WW)}\\left[ \\frac{\\hat\\varepsilon^TW\\hat\\varepsilon}{\\hat\\varepsilon^T\\hat\\varepsilon} \\right]^2\n",
    "\\end{align}\n",
    "which is simply square of the Moran I test multiplied by a standardization factor\n",
    "\n",
    "**SLM Alternative Hypothesis**:\n",
    "\\begin{align}\n",
    "LM_{SLM} = \\frac{n^2}{Q}\\left[ \\frac{\\hat\\varepsilon^TW\\hat\\varepsilon}{\\hat\\varepsilon^T\\hat\\varepsilon} \\right]^2\n",
    "\\end{align}\n",
    "with $Q=(WX\\hat\\beta)^T(I-M_x)\\frac{WX\\hat\\beta}{\\hat\\sigma^2_\\varepsilon}$, $M_x=X(X^TX)X^T$, $T=tr(W^TW + WW)$\n",
    "and with $\\hat\\beta$ and $\\hat\\sigma^2_\\varepsilon$ denoting the maximum likelihood estimators\n",
    "of the corresponding parameters.\n",
    "\n",
    "Both $LM_{SLM}$ and $LM_{SEM}$ are asymptotically distributed, under the\n",
    "null, as a $\\chi^2$ with 1 degree of freedom\n",
    "\n",
    "Two test statistics are not independent of one another -- can only test the alt \n",
    "hypothesis that errors follow a SEM model assuming no spatial lag component and vice versa\n",
    "\n",
    "Anselin et al. (1996) proposed a robust version of both tests\n",
    "\n",
    "**Robust SEM Alternative Hypothesis**:\n",
    "$$\n",
    "RLM_{SEM} = \\frac{1}{T(1-TQ))}\\left[ \\frac{n\\hat\\varepsilon^TW\\hat\\varepsilon}{\\hat\\varepsilon^T\\hat\\varepsilon} - TQ^{-1} \\frac{n\\hat\\varepsilon^TWy}{\\hat\\varepsilon^T\\hat\\varepsilon}\\right]^2\n",
    "$$\n",
    "\n",
    "**Robust SLM Alternative Hypothesis**:\n",
    "$$\n",
    "RLM_{SLM} = \\frac{n^2}{Q-T}\\left[ \\frac{n\\hat\\varepsilon^TW\\hat\\varepsilon}{\\hat\\varepsilon^T\\hat\\varepsilon} - \\frac{n\\hat\\varepsilon^TWy}{\\hat\\varepsilon^T\\hat\\varepsilon} \\right]^2\n",
    "$$\n",
    "\n",
    "\n",
    "> Note: The test results are highly dependent on your choice of neighboring critirion and spatial weights. \n",
    "\n",
    "### **Summary: Decision tree for model selection via LM tests** \n",
    "\n",
    "<img src=\"images/Spatial Model Decision Tree.png\" width=800 alt=\"spmodtree\" title=\"Spatial Model Decision Tree\" />  \n",
    "\n",
    "> Source: Anselin (1988), Burkey (2018)  \n",
    "\n",
    "### Implementation in R using Maximum Likelihood\n",
    "\n",
    "Basic Steps:\n",
    "\n",
    "1. Decide how points/polygons are linked in space (and time)\n",
    "2. Specify a spatial weights matrix\n",
    "3. Run OLS\n",
    "4. Check for spatial autocorrelation (residual)\n",
    "5. Run spatial regression"
   ]
  },
  {
   "cell_type": "code",
   "execution_count": null,
   "id": "b4ca552b-048a-4aab-902d-ae424422a7af",
   "metadata": {},
   "outputs": [],
   "source": [
    "# OLS\n",
    "mnp_ols <- lm(PEST ~ HOST, data=mnp)\n",
    "summary(mnp_ols)"
   ]
  },
  {
   "cell_type": "code",
   "execution_count": null,
   "id": "5f793bb4-02c3-441f-ae33-0af13e858536",
   "metadata": {},
   "outputs": [],
   "source": [
    "# Check for spatial autocorrelation\n",
    "moran.test(mnp_ols$residuals, mnp_lw_w)"
   ]
  },
  {
   "cell_type": "code",
   "execution_count": null,
   "id": "29123723-ac70-4b8e-afff-e603595a2e4d",
   "metadata": {},
   "outputs": [],
   "source": [
    "moran.plot(mnp_ols$residuals, mnp_lw_w)"
   ]
  },
  {
   "cell_type": "code",
   "execution_count": null,
   "id": "7486301f-fc50-4b89-9133-b874f5646c30",
   "metadata": {},
   "outputs": [],
   "source": [
    "summary(lm.LMtests(mnp_ols, mnp_lw_w, test=c(\"all\")))"
   ]
  },
  {
   "cell_type": "code",
   "execution_count": null,
   "id": "9436b72d-8859-47a3-8157-13cfa4847703",
   "metadata": {},
   "outputs": [],
   "source": [
    "# General Nesting Spatial Model (GNS)\n",
    "mnp_gns <- sacsarlm(PEST ~ HOST, data=mnp, listw =mnp_lw_w, type=\"sacmixed\")\n",
    "summary(mnp_gns)"
   ]
  },
  {
   "cell_type": "markdown",
   "id": "5683482f-d894-435e-8ef0-8a6c5139482e",
   "metadata": {
    "tags": []
   },
   "source": [
    "\n",
    "### **Impacts Interpretation**  \n",
    "\n",
    "Mathematically, the notion of spillover can be thought as the derivative\n",
    "$\\partial y_i/\\partial x_j$ \n",
    "\n",
    "- Changes to explanatory variables in region $i$ impact the dependent variable in region $j \\neq i$.\n",
    "- For OLS model we have $\\partial y_i/\\partial x_j = 0$\n",
    "\n",
    "Variation of variable $X$ observed in location $i$ has an effect on\n",
    "\n",
    "1. The value of variable $y$ in the same location (*direct effect*), and \n",
    "2. The value of variable $y$ observed in other locations (*indirect effect*)\n",
    "\n"
   ]
  },
  {
   "cell_type": "code",
   "execution_count": null,
   "id": "0a8dad48-4b1a-425d-8a47-8abbd6c809ac",
   "metadata": {},
   "outputs": [],
   "source": [
    "impacts(mnp_slm, listw = mnp_lw_w)"
   ]
  },
  {
   "cell_type": "markdown",
   "id": "517d6382-b7db-4b67-83e1-a93cc2d2bf26",
   "metadata": {
    "tags": []
   },
   "source": [
    "<a id=\"Ex4\"></a>\n",
    "### **<span style='color:Green'> Exercise 4: Spatial Regression </span>**   "
   ]
  },
  {
   "cell_type": "markdown",
   "id": "258dc745-48ab-4dba-9286-94d96b598a54",
   "metadata": {},
   "source": [
    "In this exercise, we will conduct a spatial regression on our Malawi LSMS data\n"
   ]
  },
  {
   "cell_type": "markdown",
   "id": "b2212d74-f2aa-4d01-af79-dd2fe6e53a8f",
   "metadata": {},
   "source": [
    "**Step 1:** Run an OLS regression of per capita consumption (`poverty`) as a function of cropland cultivated (`cropland`), livestock owned (`livstck`), share of off-farm income (`income`), \n",
    "years of education (`edu`), female head of household (`female`) and tobacco growing household (`tobccHH`).\n",
    "\n",
    "    > poverty ~ croplnd + livstck + income + edu + female + tobccHH"
   ]
  },
  {
   "cell_type": "code",
   "execution_count": null,
   "id": "c6f1cb6e-c7f3-45a7-82ef-6dfcdff4d3f9",
   "metadata": {},
   "outputs": [],
   "source": []
  },
  {
   "cell_type": "markdown",
   "id": "394b0a21-0415-4d95-b792-4442c936a6ba",
   "metadata": {},
   "source": [
    "<details>\n",
    "    \n",
    "<summary><span style='color:Green'> Click to see answer  </span></summary>\n",
    "\n",
    "```\n",
    "mwi_ols <- lm(poverty ~ croplnd + livstck + income + edu + female + tobccHH, data = mwi_sf)\n",
    "summary(mwi_ols)\n",
    "```\n",
    "----\n",
    "          \n",
    "</details>"
   ]
  },
  {
   "cell_type": "markdown",
   "id": "d0e327e7-7d51-45ca-aba4-14dd1f840b6e",
   "metadata": {},
   "source": [
    "**Step 2:** Run the LM lag model tests -- which model do these tests indicate you should you use?"
   ]
  },
  {
   "cell_type": "code",
   "execution_count": null,
   "id": "8a36b5e3-1ed9-4527-9206-8ac618f79f0b",
   "metadata": {},
   "outputs": [],
   "source": []
  },
  {
   "cell_type": "markdown",
   "id": "59394a5e-939e-45e4-92c4-bccbc3e71c16",
   "metadata": {},
   "source": [
    "<details>\n",
    "    \n",
    "<summary><span style='color:Green'> Click to see answer  </span></summary>\n",
    "\n",
    "```\n",
    "summary(lm.LMtests(mwi_ols, mwi_lw_w, test = c(\"all\")))\n",
    "# Look at the p.value to decide which model(s) to run\n",
    "```\n",
    "----\n",
    "          \n",
    "</details>"
   ]
  },
  {
   "cell_type": "markdown",
   "id": "23143044-97f9-464a-8b2b-2daa9ee87c86",
   "metadata": {},
   "source": [
    "**Step 3:** Run your spatial regression model of choice."
   ]
  },
  {
   "cell_type": "code",
   "execution_count": null,
   "id": "dee3811e-c66a-473a-8d59-66f7c1348214",
   "metadata": {},
   "outputs": [],
   "source": []
  },
  {
   "cell_type": "markdown",
   "id": "ed165dee-8eaf-472a-9a55-932243be71cb",
   "metadata": {},
   "source": [
    "<details>\n",
    "    \n",
    "<summary><span style='color:Green'> Click to see answer  </span></summary>\n",
    "\n",
    "```\n",
    "mwi_slm <- lagsarlm(poverty ~ croplnd + livstck + income + edu + female + tobccHH, \n",
    "                data = mwi_sf, listw = mwi_lw_w)\n",
    "summary(mwi_slm)\n",
    "```\n",
    "----\n",
    "          \n",
    "</details>"
   ]
  },
  {
   "cell_type": "markdown",
   "id": "519a8a21-bc0d-4596-8f1a-f116639e211a",
   "metadata": {},
   "source": [
    "**Step 4:** Calculate impacts using `impacts(reg, listw)` function"
   ]
  },
  {
   "cell_type": "code",
   "execution_count": null,
   "id": "8e890a74-c4cb-4e69-b3b1-0692a8c4fb12",
   "metadata": {},
   "outputs": [],
   "source": []
  },
  {
   "cell_type": "markdown",
   "id": "0b749257-89ba-48ef-b2c0-3db241b087b2",
   "metadata": {},
   "source": [
    "<details>\n",
    "    \n",
    "<summary><span style='color:Green'> Click to see answer  </span></summary>\n",
    "\n",
    "```\n",
    "impacts(mwi_slm, listw = mwi_lw_w)\n",
    "```\n",
    "----\n",
    "          \n",
    "</details>"
   ]
  },
  {
   "cell_type": "markdown",
   "id": "eddbef58-bd1d-460a-9b99-62fcfba85b41",
   "metadata": {},
   "source": [
    "<hr style=\"border:5px solid green\">"
   ]
  }
 ],
 "metadata": {
  "kernelspec": {
   "display_name": "R",
   "language": "R",
   "name": "ir"
  },
  "language_info": {
   "codemirror_mode": "r",
   "file_extension": ".r",
   "mimetype": "text/x-r-source",
   "name": "R",
   "pygments_lexer": "r",
   "version": "4.1.2"
  }
 },
 "nbformat": 4,
 "nbformat_minor": 5
}
